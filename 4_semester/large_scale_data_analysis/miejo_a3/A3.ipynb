{
 "cells": [
  {
   "attachments": {},
   "cell_type": "markdown",
   "id": "181bbe29-26f4-4c4a-a9e9-0053263bff52",
   "metadata": {},
   "source": [
    "# Assignment: Scalable Processing\n",
    "## Yelp Reviews and Authenticity\n",
    "\n",
    "course name | by ___ | ____@itu.dk | date"
   ]
  },
  {
   "attachments": {},
   "cell_type": "markdown",
   "id": "5b92b80e-c7bf-423e-a234-722aed2f9139",
   "metadata": {},
   "source": [
    "#### Flags & imports"
   ]
  },
  {
   "cell_type": "code",
   "execution_count": 1,
   "id": "d6316047-24a4-45a3-a3bb-c6cbad2e499e",
   "metadata": {
    "execution": {
     "iopub.execute_input": "2023-05-08T12:20:56.588855Z",
     "iopub.status.busy": "2023-05-08T12:20:56.588020Z",
     "iopub.status.idle": "2023-05-08T12:20:57.130696Z",
     "shell.execute_reply": "2023-05-08T12:20:57.129439Z",
     "shell.execute_reply.started": "2023-05-08T12:20:56.588787Z"
    },
    "tags": []
   },
   "outputs": [],
   "source": [
    "from pyspark.ml import Pipeline\n",
    "from pyspark.ml.feature import OneHotEncoder, StringIndexer, VectorAssembler\n",
    "from pyspark.ml.classification import LinearSVC, OneVsRest, LogisticRegression\n",
    "from pyspark.ml.regression import LinearRegression, GeneralizedLinearRegression\n",
    "from pyspark.ml.evaluation import MulticlassClassificationEvaluator, RegressionEvaluator"
   ]
  },
  {
   "cell_type": "code",
   "execution_count": 2,
   "id": "a4a89f72-ec7d-4007-a578-c521387d727a",
   "metadata": {
    "execution": {
     "iopub.execute_input": "2023-05-08T12:20:57.143678Z",
     "iopub.status.busy": "2023-05-08T12:20:57.143032Z",
     "iopub.status.idle": "2023-05-08T12:20:57.148696Z",
     "shell.execute_reply": "2023-05-08T12:20:57.147663Z",
     "shell.execute_reply.started": "2023-05-08T12:20:57.143632Z"
    },
    "tags": []
   },
   "outputs": [],
   "source": [
    "code_development = False"
   ]
  },
  {
   "attachments": {},
   "cell_type": "markdown",
   "id": "5ab6e38b-3342-4672-8382-930258fbd242",
   "metadata": {},
   "source": [
    "#### Words and strings"
   ]
  },
  {
   "cell_type": "code",
   "execution_count": 3,
   "id": "0ea000dc-ed84-4c67-93ab-cd12f6573975",
   "metadata": {
    "execution": {
     "iopub.execute_input": "2023-05-08T12:20:57.218555Z",
     "iopub.status.busy": "2023-05-08T12:20:57.216815Z",
     "iopub.status.idle": "2023-05-08T12:20:57.229115Z",
     "shell.execute_reply": "2023-05-08T12:20:57.227798Z",
     "shell.execute_reply.started": "2023-05-08T12:20:57.218410Z"
    },
    "tags": []
   },
   "outputs": [],
   "source": [
    "auth_words = ['authentic', 'legit', 'credible', 'original'] #Note - these would also capture 'authenticity' 'legitimately' etc. \n",
    "bad_words = ['dirty', 'kitsch', 'cheap', 'rude', 'simple', 'tacky', 'sleazy', 'crude', 'messy', 'vulgar']\n",
    "\n",
    "auth_string = \"\"\n",
    "for i, w in enumerate(auth_words):\n",
    "    auth_string += f'lower(text) LIKE \"%{w}%\"'\n",
    "    if i < len(auth_words)-1:\n",
    "        auth_string += \" OR \"\n",
    "\n",
    "bad_string = \"\"\n",
    "for i, w in enumerate(bad_words):\n",
    "    bad_string += f'lower(text) LIKE \"%{w}%\"'\n",
    "    if i < len(bad_words)-1:\n",
    "        bad_string += \" OR \""
   ]
  },
  {
   "cell_type": "code",
   "execution_count": 4,
   "id": "f7aff919-d3ff-493c-974a-ce27677b2c65",
   "metadata": {
    "execution": {
     "iopub.execute_input": "2023-05-08T12:20:57.394295Z",
     "iopub.status.busy": "2023-05-08T12:20:57.393458Z",
     "iopub.status.idle": "2023-05-08T12:20:57.405366Z",
     "shell.execute_reply": "2023-05-08T12:20:57.404732Z",
     "shell.execute_reply.started": "2023-05-08T12:20:57.394240Z"
    },
    "tags": []
   },
   "outputs": [],
   "source": [
    "asian_cuisine_keywords = ['asian', 'chinese', 'sushi', 'vietnamese', 'thai', 'japanese', 'korean', 'indian', 'cantonese',\n",
    "                          'afghan', 'poke', 'filipino', 'indonesian', 'russian']\n",
    "southamer_cuisine_keywords = ['mexican', 'caribbean', 'brazilian', 'latin american', 'cuban', 'argentine', 'honduran', 'peruvian']\n",
    "middleeast_cuisine_keywords = ['middle eastern', 'persian', 'turkish', 'arabic', 'lebanese', 'halal', 'moroccan', 'africa', 'ethiopian']\n",
    "euro_cuisine_keywords = ['italian', 'greek', 'spanish', 'european', 'french', 'tapas', 'british', 'creperies', 'pizza', 'pretzel',\n",
    "                        'fondue', 'german', 'gelato', 'ukrainian', 'brasseries', 'patisserie', 'portuguese']\n",
    "american_cuisine_keywords = ['fast food', 'burgers', 'barbeque', 'diner', 'cheesesteak', 'frozen yogurt', 'donut', 'waffle', 'brunch',\n",
    "                            'steakhouse', 'hot dog', 'cajun', 'american', 'cupcake', 'canadian', 'southern', 'hawaii']\n",
    "\n",
    "asia_string = \"\"\n",
    "for i, w in enumerate(asian_cuisine_keywords):\n",
    "    asia_string += f'lower(categories) LIKE \"%{w}%\"'\n",
    "    if i < len(asian_cuisine_keywords)-1:\n",
    "        asia_string += \" OR \"\n",
    "        \n",
    "southamer_string = \"\"\n",
    "for i, w in enumerate(southamer_cuisine_keywords):\n",
    "    southamer_string += f'lower(categories) LIKE \"%{w}%\"'\n",
    "    if i < len(southamer_cuisine_keywords)-1:\n",
    "        southamer_string += \" OR \"\n",
    "\n",
    "middleeast_string = \"\"\n",
    "for i, w in enumerate(middleeast_cuisine_keywords):\n",
    "    middleeast_string += f'lower(categories) LIKE \"%{w}%\"'\n",
    "    if i < len(middleeast_cuisine_keywords)-1:\n",
    "        middleeast_string += \" OR \"\n",
    "\n",
    "euro_string = \"\"\n",
    "for i, w in enumerate(euro_cuisine_keywords):\n",
    "    euro_string += f'lower(categories) LIKE \"%{w}%\"'\n",
    "    if i < len(euro_cuisine_keywords)-1:\n",
    "        euro_string += \" OR \"\n",
    "        \n",
    "amer_string = \"\"\n",
    "for i, w in enumerate(american_cuisine_keywords):\n",
    "    amer_string += f'lower(categories) LIKE \"%{w}%\"'\n",
    "    if i < len(american_cuisine_keywords)-1:\n",
    "        amer_string += \" OR \""
   ]
  },
  {
   "attachments": {},
   "cell_type": "markdown",
   "id": "92690678-bb97-43d7-ab27-4a6f8db87079",
   "metadata": {},
   "source": [
    "## Connecting to the Spark Cluster job using the two JobParameters.json\n",
    "\n",
    "To connect this jupyter notebook with your Spark cluster, we need to tell jupyter how it can access the spark cluster. Below code accomplishes that. "
   ]
  },
  {
   "cell_type": "code",
   "execution_count": 5,
   "id": "d483a774-a0ca-4873-a2ee-51d2fcd30ead",
   "metadata": {
    "execution": {
     "iopub.execute_input": "2023-05-08T12:20:57.766393Z",
     "iopub.status.busy": "2023-05-08T12:20:57.765677Z",
     "iopub.status.idle": "2023-05-08T12:21:37.114248Z",
     "shell.execute_reply": "2023-05-08T12:21:37.112789Z",
     "shell.execute_reply.started": "2023-05-08T12:20:57.766338Z"
    },
    "tags": []
   },
   "outputs": [],
   "source": [
    "#####################################################################\n",
    "# DO NOT CHANGE ANYTHING HERE.\n",
    "# IF YOU HAVE PROBLEMS, CHECK THE ASSIGNMENT GUIDE CAREFULLY \n",
    "#####################################################################\n",
    "    \n",
    "FIRST_EXECUTION = False\n",
    "# Only execute this cell once.\n",
    "if not FIRST_EXECUTION:\n",
    "    FIRST_EXECUTION = True\n",
    "    import os, json, pyspark\n",
    "    from pyspark.conf import SparkConf\n",
    "    from pyspark.sql import SparkSession, functions as F\n",
    "\n",
    "    # Two files are automatically read: JobParameters.json for the Spark Cluster job using a temporary spark instance\n",
    "    # and JobParameters.json for the Jupyter Lab job to extract the hostname of the cluster. \n",
    "\n",
    "    MASTER_HOST_NAME = None\n",
    "\n",
    "    # Open the parameters Jupyter Lab app was launched with\n",
    "    with open('/work/JobParameters.json', 'r') as file:\n",
    "        JUPYTER_LAB_JOB_PARAMS = json.load(file)\n",
    "        # from pprint import pprint; pprint(JUPYTER_LAB_JOB_PARAMS) \n",
    "        for resource in JUPYTER_LAB_JOB_PARAMS['request']['resources']:\n",
    "            if 'hostname' in resource.keys():\n",
    "                MASTER_HOST_NAME = resource['hostname']\n",
    "\n",
    "    MASTER_HOST = f\"spark://{MASTER_HOST_NAME}:7077\"\n",
    "\n",
    "    conf = SparkConf().setAll([\n",
    "            (\"spark.app.name\", 'reading_job_params_app'), \n",
    "            (\"spark.master\", MASTER_HOST),\n",
    "        ])\n",
    "    spark = SparkSession.builder.config(conf=conf)\\\n",
    "                                .getOrCreate()\n",
    "\n",
    "    CLUSTER_PARAMETERS_JSON_DF = spark.read.option(\"multiline\",\"true\").json('/work/JobParameters.json')\n",
    "\n",
    "    # Extract cluster info from the specific JobParameters.json\n",
    "    NODES = CLUSTER_PARAMETERS_JSON_DF.select(\"request.replicas\").first()[0]\n",
    "    CPUS_PER_NODE = CLUSTER_PARAMETERS_JSON_DF.select(\"machineType.cpu\").first()[0] - 1\n",
    "    MEM_PER_NODE = CLUSTER_PARAMETERS_JSON_DF.select(\"machineType.memoryInGigs\").first()[0]\n",
    "\n",
    "    CLUSTER_CORES_MAX = CPUS_PER_NODE * NODES\n",
    "    CLUSTER_MEMORY_MAX = MEM_PER_NODE * NODES \n",
    "\n",
    "    EXECUTOR_CORES = CPUS_PER_NODE - 1  # set cores per executor on worker node\n",
    "    EXECUTOR_MEMORY = int(\n",
    "        MEM_PER_NODE / (CPUS_PER_NODE / EXECUTOR_CORES) * 0.5\n",
    "    )  # set executor memory in GB on each worker node\n",
    "\n",
    "    # Make sure there is a dir for spark logs\n",
    "    if not os.path.exists('spark_logs'):\n",
    "        os.mkdir('spark_logs')\n",
    "\n",
    "    conf = SparkConf().setAll(\n",
    "        [\n",
    "            (\"spark.app.name\", 'spark_assignment'), # Change to your liking \n",
    "            (\"spark.sql.caseSensitive\", False), # Optional: Make queries strings sensitive to captialization\n",
    "            (\"spark.master\", MASTER_HOST),\n",
    "            (\"spark.cores.max\", CLUSTER_CORES_MAX),\n",
    "            (\"spark.executor.cores\", EXECUTOR_CORES),\n",
    "            (\"spark.executor.memory\", str(EXECUTOR_MEMORY) + \"g\"),\n",
    "            (\"spark.eventLog.enabled\", True),\n",
    "            (\"spark.eventLog.dir\", \"spark_logs\"),\n",
    "            (\"spark.history.fs.logDirectory\", \"spark_logs\"),\n",
    "            (\"spark.deploy.mode\", \"cluster\"),\n",
    "        ]\n",
    "    )\n",
    "\n",
    "    ## check executor memory, taking into accout 10% of memory overhead (minimum 384 MiB)\n",
    "    CHECK = (CLUSTER_CORES_MAX / EXECUTOR_CORES) * (\n",
    "        EXECUTOR_MEMORY + max(EXECUTOR_MEMORY * 0.10, 0.403)\n",
    "    )\n",
    "\n",
    "    assert (\n",
    "        int(CHECK) <= CLUSTER_MEMORY_MAX\n",
    "    ), \"Executor memory larger than cluster total memory!\"\n",
    "\n",
    "    # Stop previous session that was just for loading cluster params\n",
    "    spark.stop()\n",
    "\n",
    "    # Start new session with above config, that has better resource handling\n",
    "    spark = SparkSession.builder.config(conf=conf)\\\n",
    "                                .getOrCreate()\n",
    "    sc = spark.sparkContext"
   ]
  },
  {
   "attachments": {},
   "cell_type": "markdown",
   "id": "93bbb4de-8b40-4364-b8d3-2cc488b16cbf",
   "metadata": {},
   "source": [
    "Click on the \"SparkMonitor\" tab at the top in Jupyter Lab to see the status of running code on the cluster."
   ]
  },
  {
   "attachments": {},
   "cell_type": "markdown",
   "id": "b1de3dec-d95c-44b9-a996-12e97cc34c2b",
   "metadata": {},
   "source": [
    "## Loading the data\n",
    "Here we specify where the yelp datasets are located on UCloud and read then using the spark session."
   ]
  },
  {
   "cell_type": "code",
   "execution_count": 6,
   "id": "5fa96702-5902-4482-9cd2-77d6f5da0f75",
   "metadata": {
    "execution": {
     "iopub.execute_input": "2023-05-08T12:21:37.231751Z",
     "iopub.status.busy": "2023-05-08T12:21:37.231278Z",
     "iopub.status.idle": "2023-05-08T12:22:01.216558Z",
     "shell.execute_reply": "2023-05-08T12:22:01.215115Z",
     "shell.execute_reply.started": "2023-05-08T12:21:37.231716Z"
    },
    "tags": []
   },
   "outputs": [],
   "source": [
    "# Read in the business and review files\n",
    "# This is the path to the shared datasets provided by adding an the dataset input folder\n",
    "# when submitting the spark cluster job.\n",
    "business = spark.read.json('file:////work/yelp/yelp_academic_dataset_business.json') # Use the file:/// prefix to indicate we want to read from the cluster's filesystem\n",
    "business = business.persist()\n",
    "# Persist 2 commonly used dataframes since they're used for later computations\n",
    "# https://sparkbyexamples.com/spark/spark-difference-between-cache-and-persist/\n",
    "\n",
    "users = spark.read.json(\"file:////work/yelp/yelp_academic_dataset_user.json\")\n",
    "\n",
    "reviews = spark.read.json('file:////work/yelp/yelp_academic_dataset_review.json')\n",
    "reviews = reviews.persist()"
   ]
  },
  {
   "cell_type": "code",
   "execution_count": 7,
   "id": "cc31d1a2-3571-49cd-af5a-98d6d23027de",
   "metadata": {
    "execution": {
     "iopub.execute_input": "2023-05-08T12:22:01.221276Z",
     "iopub.status.busy": "2023-05-08T12:22:01.220594Z",
     "iopub.status.idle": "2023-05-08T12:22:01.227945Z",
     "shell.execute_reply": "2023-05-08T12:22:01.226856Z",
     "shell.execute_reply.started": "2023-05-08T12:22:01.221222Z"
    },
    "tags": []
   },
   "outputs": [],
   "source": [
    "# OPTIONAL:\n",
    "# Reduce resource usage and make queries run faster\n",
    "# by only using a small sample of the dataframe\n",
    "# and overwriting previous variable \"df\".\n",
    "# Useful while developing, not so much to\n",
    "# provide final answers. Therefore: Remember to \n",
    "# to re-read the df when done developing code using\n",
    "# df = spark.read etc like above.\n",
    "if code_development:\n",
    "    reviews = reviews.sample(withReplacement=False, fraction=1/50)\n",
    "    users = users.sample(withReplacement=False, fraction=1/50)"
   ]
  },
  {
   "attachments": {},
   "cell_type": "markdown",
   "id": "7d258fa6-1402-4c3a-a252-a9dbfd4a87d9",
   "metadata": {},
   "source": [
    "Example: Say we're only interested in reviews of good mexican restaurants in Arizona. You can delete this when you do your own thing. "
   ]
  },
  {
   "attachments": {},
   "cell_type": "markdown",
   "id": "fe134569-fc9e-48fa-bf90-b6e379fd15b8",
   "metadata": {},
   "source": [
    "## Part 1 - Definitive Questions\n",
    "#### 1 - Analyze business.json to find the total number of reviews for all businesses. The output should be in the form of a Spark DataFrame with one value representing the count"
   ]
  },
  {
   "cell_type": "code",
   "execution_count": 8,
   "id": "9ce95b0c-a8df-42e4-b369-b3de2b866947",
   "metadata": {
    "execution": {
     "iopub.execute_input": "2023-05-08T12:22:01.230312Z",
     "iopub.status.busy": "2023-05-08T12:22:01.229496Z",
     "iopub.status.idle": "2023-05-08T12:22:12.315452Z",
     "shell.execute_reply": "2023-05-08T12:22:12.313986Z",
     "shell.execute_reply.started": "2023-05-08T12:22:01.230266Z"
    },
    "tags": []
   },
   "outputs": [
    {
     "name": "stdout",
     "output_type": "stream",
     "text": [
      "+-----------------+\n",
      "|sum(review_count)|\n",
      "+-----------------+\n",
      "|          6745508|\n",
      "+-----------------+\n",
      "\n"
     ]
    }
   ],
   "source": [
    "p1_1 = business.agg({\"review_count\":\"sum\"})\n",
    "p1_1.toPandas().to_csv(\"results/p1_1.csv\", header=False, index=False, encoding='utf-8')\n",
    "p1_1.show()"
   ]
  },
  {
   "attachments": {},
   "cell_type": "markdown",
   "id": "bf3c3005-2068-4e2a-88ff-001d0c6416e4",
   "metadata": {},
   "source": [
    "#### 2 - Analyze business.json to find all businesses that have received 5 stars and that have been reviewed by 500 or more users. The output should be in the form of DataFrame of (name, stars, review count)."
   ]
  },
  {
   "cell_type": "code",
   "execution_count": 9,
   "id": "47fd23ad-4840-44e6-bd53-117240384664",
   "metadata": {
    "execution": {
     "iopub.execute_input": "2023-05-08T12:22:12.318337Z",
     "iopub.status.busy": "2023-05-08T12:22:12.317536Z",
     "iopub.status.idle": "2023-05-08T12:22:15.236387Z",
     "shell.execute_reply": "2023-05-08T12:22:15.234988Z",
     "shell.execute_reply.started": "2023-05-08T12:22:12.318280Z"
    },
    "tags": []
   },
   "outputs": [
    {
     "name": "stdout",
     "output_type": "stream",
     "text": [
      "+------------------+-----+------------+\n",
      "|              name|stars|review_count|\n",
      "+------------------+-----+------------+\n",
      "|   Blues City Deli|  5.0|         991|\n",
      "|          Tumerico|  5.0|         705|\n",
      "|Free Tours By Foot|  5.0|         769|\n",
      "|              Yats|  5.0|         623|\n",
      "| SUGARED + BRONZED|  5.0|         513|\n",
      "+------------------+-----+------------+\n",
      "only showing top 5 rows\n",
      "\n"
     ]
    }
   ],
   "source": [
    "p1_2 = business.filter(business.stars == 5.0).filter(business.review_count >= 500).select('name', 'stars', 'review_count')\n",
    "p1_2.toPandas().to_csv(\"results/p1_2.csv\", header=True, index=False, encoding='utf-8')\n",
    "p1_2.show(5)"
   ]
  },
  {
   "attachments": {},
   "cell_type": "markdown",
   "id": "c31bdab4-56b8-406a-bc20-6c5ea90c21fb",
   "metadata": {},
   "source": [
    "#### 3 - Analyze user.json to find the influencers who have written more than 1000 reviews. The output should be in the form of DataFrame of user id."
   ]
  },
  {
   "cell_type": "code",
   "execution_count": 10,
   "id": "258cb106-61ee-403e-97d5-52e6fa46e205",
   "metadata": {
    "execution": {
     "iopub.execute_input": "2023-05-08T12:22:15.239171Z",
     "iopub.status.busy": "2023-05-08T12:22:15.238448Z",
     "iopub.status.idle": "2023-05-08T12:22:18.219584Z",
     "shell.execute_reply": "2023-05-08T12:22:18.218224Z",
     "shell.execute_reply.started": "2023-05-08T12:22:15.239105Z"
    },
    "tags": []
   },
   "outputs": [
    {
     "name": "stdout",
     "output_type": "stream",
     "text": [
      "+--------------------+\n",
      "|             user_id|\n",
      "+--------------------+\n",
      "|j14WgRoU_-2ZE1aw1...|\n",
      "|q_QQ5kBBwlCcbL1s4...|\n",
      "|MGPQVLsODMm9ZtYQW...|\n",
      "|NIhcRW6DWvk1JQhDh...|\n",
      "|QJI9OSEn6ujRCtrX0...|\n",
      "+--------------------+\n",
      "only showing top 5 rows\n",
      "\n"
     ]
    }
   ],
   "source": [
    "p1_3 = users.filter(users.review_count > 1000).select('user_id')\n",
    "p1_3.toPandas().to_csv(\"results/p1_3.csv\", header=True, index=False, encoding='utf-8')\n",
    "p1_3.show(5)"
   ]
  },
  {
   "attachments": {},
   "cell_type": "markdown",
   "id": "72d244da-97d1-4f7b-8c99-3953081cb785",
   "metadata": {},
   "source": [
    "#### 4 - Analyze review.json, business.json, and a view created from your answer to Q3 to find the businesses that have been reviewed by more than 5 influencer users."
   ]
  },
  {
   "cell_type": "code",
   "execution_count": 11,
   "id": "190fd7d2-878a-42f1-8819-e7f6dd442ade",
   "metadata": {
    "execution": {
     "iopub.execute_input": "2023-05-08T12:22:18.222137Z",
     "iopub.status.busy": "2023-05-08T12:22:18.221435Z",
     "iopub.status.idle": "2023-05-08T12:22:58.718112Z",
     "shell.execute_reply": "2023-05-08T12:22:58.716665Z",
     "shell.execute_reply.started": "2023-05-08T12:22:18.222081Z"
    },
    "tags": []
   },
   "outputs": [
    {
     "name": "stdout",
     "output_type": "stream",
     "text": [
      "+--------------------+----------+\n",
      "|                name|no_reviews|\n",
      "+--------------------+----------+\n",
      "|  Costa's Restaurant|         6|\n",
      "|Applebee's Grill ...|        94|\n",
      "|  Fat Bottom Brewing|        10|\n",
      "|    McAlister's Deli|        60|\n",
      "|     Pinewood Social|        27|\n",
      "+--------------------+----------+\n",
      "only showing top 5 rows\n",
      "\n"
     ]
    }
   ],
   "source": [
    "influencer_reviews = business.join(reviews, 'business_id', 'left').join(p1_3, 'user_id', 'inner')\n",
    "influencer_reviews = influencer_reviews.groupby(business.name).agg({'review_id':'count'}).withColumnRenamed(\"count(review_id)\", \"no_reviews\")\n",
    "\n",
    "p1_4 = influencer_reviews.filter(influencer_reviews.no_reviews >= 5)\n",
    "p1_4.toPandas().to_csv(\"results/p1_4.csv\", header=True, index=False, encoding='utf-8')\n",
    "p1_4.show(5)"
   ]
  },
  {
   "attachments": {},
   "cell_type": "markdown",
   "id": "f0cdf7f3-b3e7-40ac-bb83-41d351556138",
   "metadata": {},
   "source": [
    "#### 5 - Analyze review.json and user.json to find an ordered list of users based on the average star counts they have given in all their reviews."
   ]
  },
  {
   "cell_type": "code",
   "execution_count": 12,
   "id": "254e40b3-9d8b-4fd3-a97f-83d51c32574a",
   "metadata": {
    "execution": {
     "iopub.execute_input": "2023-05-08T12:22:58.720848Z",
     "iopub.status.busy": "2023-05-08T12:22:58.720168Z",
     "iopub.status.idle": "2023-05-08T12:23:04.407934Z",
     "shell.execute_reply": "2023-05-08T12:23:04.336664Z",
     "shell.execute_reply.started": "2023-05-08T12:22:58.720792Z"
    },
    "tags": []
   },
   "outputs": [
    {
     "name": "stdout",
     "output_type": "stream",
     "text": [
      "+--------------------+---------+\n",
      "|             user_id|avg_stars|\n",
      "+--------------------+---------+\n",
      "|HTNGyJVoSGHgY5G9A...|      5.0|\n",
      "|dsJ60MzCrBUo6MKVA...|      5.0|\n",
      "|6TPO2yFzqUO-XL4gj...|      5.0|\n",
      "|ygLSJmIj3bVFLBdnP...|      5.0|\n",
      "|aFUiejZyIBzjojR2x...|      5.0|\n",
      "+--------------------+---------+\n",
      "only showing top 5 rows\n",
      "\n"
     ]
    }
   ],
   "source": [
    "p1_5 = reviews.groupby('user_id').agg({'stars':'avg'}).withColumnRenamed(\"avg(stars)\", \"avg_stars\")\n",
    "p1_5 = p1_5.orderBy('avg(stars)', ascending=False)\n",
    "#this fucking collect in the to_pandas method doesn't work on this bullshit\n",
    "#p1_5.toPandas().to_csv(\"results/p1_5.csv\", header=True, index=False, encoding='utf-8') \n",
    "p1_5.show(5)"
   ]
  },
  {
   "attachments": {},
   "cell_type": "markdown",
   "id": "43656661-8dcd-45da-9858-5cae5f83d51e",
   "metadata": {},
   "source": [
    "## Part 2 - Authenticity Study\n",
    "### Data Cleaning"
   ]
  },
  {
   "cell_type": "code",
   "execution_count": 13,
   "id": "2ec3edce-645a-4009-b119-91723ba9433c",
   "metadata": {
    "execution": {
     "iopub.execute_input": "2023-05-08T12:23:04.414003Z",
     "iopub.status.busy": "2023-05-08T12:23:04.413322Z",
     "iopub.status.idle": "2023-05-08T12:23:04.614548Z",
     "shell.execute_reply": "2023-05-08T12:23:04.613114Z",
     "shell.execute_reply.started": "2023-05-08T12:23:04.413952Z"
    },
    "tags": []
   },
   "outputs": [],
   "source": [
    "business.createOrReplaceTempView('business')"
   ]
  },
  {
   "cell_type": "code",
   "execution_count": 14,
   "id": "1bf9283a-413c-4654-9798-75a9bde54fcc",
   "metadata": {
    "execution": {
     "iopub.execute_input": "2023-05-08T12:23:04.620010Z",
     "iopub.status.busy": "2023-05-08T12:23:04.618274Z",
     "iopub.status.idle": "2023-05-08T12:23:12.126064Z",
     "shell.execute_reply": "2023-05-08T12:23:12.122677Z",
     "shell.execute_reply.started": "2023-05-08T12:23:04.619866Z"
    },
    "tags": []
   },
   "outputs": [],
   "source": [
    "spark.sql(f\"\"\"\n",
    "    SELECT address, business_id, city, latitude, longitude, name, postal_code, review_count, stars, state,\n",
    "        CASE WHEN {asia_string} THEN 'Asian Cuisine'\n",
    "            WHEN {southamer_string} THEN 'South American Cuisine'\n",
    "            WHEN {middleeast_string} Then 'Middle Eastern / African Cuisine'\n",
    "            WHEN {euro_string} THEN 'European Cuisine' \n",
    "            WHEN {amer_string} THEN 'American Cuisine'\n",
    "            ELSE 'Unknown'\n",
    "        END AS cuisine\n",
    "    FROM business\n",
    "    WHERE (lower(          categories) LIKE '%restaurant%')\n",
    "        AND lower(          categories) NOT LIKE '%bar%' AND lower(          categories) NOT LIKE '%hotel%' \n",
    "        AND lower(          categories) NOT LIKE '%arts & entertainment%' AND lower(          categories) NOT LIKE '%shopping%'\n",
    "        AND lower(          categories) NOT LIKE '%services%' AND lower(          categories) NOT LIKE '%store%'\n",
    "    \"\"\").toPandas().to_csv('results/business_with_cuisines.csv', index=False)"
   ]
  },
  {
   "attachments": {},
   "cell_type": "markdown",
   "id": "b9cd0a04-51ed-48c8-8bd4-5f1d7f5f49d5",
   "metadata": {},
   "source": [
    "### Creating Views"
   ]
  },
  {
   "cell_type": "code",
   "execution_count": 15,
   "id": "16b856fd-3f7d-4898-b57c-435ad032bb91",
   "metadata": {
    "execution": {
     "iopub.execute_input": "2023-05-08T12:23:12.130543Z",
     "iopub.status.busy": "2023-05-08T12:23:12.129715Z",
     "iopub.status.idle": "2023-05-08T12:23:14.117414Z",
     "shell.execute_reply": "2023-05-08T12:23:14.115632Z",
     "shell.execute_reply.started": "2023-05-08T12:23:12.130480Z"
    },
    "tags": []
   },
   "outputs": [],
   "source": [
    "reviews.createOrReplaceTempView('reviews')\n",
    "business.createOrReplaceTempView('business')\n",
    "users.createOrReplaceTempView('users')\n",
    "\n",
    "restaurants = spark.read.option(\"header\", \"true\").csv('file:////work/results/business_with_cuisines.csv')\n",
    "restaurants.createOrReplaceTempView('restaurants')"
   ]
  },
  {
   "attachments": {},
   "cell_type": "markdown",
   "id": "834f6ca2-df52-483e-a53c-02d9ab677f38",
   "metadata": {},
   "source": [
    "### Question Answering\n",
    "#### Q1: What is the percentage of reviews containing a variant of the word \"authentic\"?"
   ]
  },
  {
   "cell_type": "code",
   "execution_count": 16,
   "id": "904b9def-9bbe-4e51-869c-290d7e3a3948",
   "metadata": {
    "execution": {
     "iopub.execute_input": "2023-05-08T12:23:14.120220Z",
     "iopub.status.busy": "2023-05-08T12:23:14.119606Z",
     "iopub.status.idle": "2023-05-08T12:23:26.631489Z",
     "shell.execute_reply": "2023-05-08T12:23:26.629946Z",
     "shell.execute_reply.started": "2023-05-08T12:23:14.120178Z"
    },
    "tags": []
   },
   "outputs": [
    {
     "name": "stdout",
     "output_type": "stream",
     "text": [
      "+-------------+--------------+------------------+\n",
      "|total_reviews|with_authentic|               pct|\n",
      "+-------------+--------------+------------------+\n",
      "|      6990280|        124634|1.7829614836601682|\n",
      "+-------------+--------------+------------------+\n",
      "\n"
     ]
    }
   ],
   "source": [
    "P2_1 = spark.sql(\"\"\"\n",
    "    SELECT count(*) as total_reviews, sum(auth) as with_authentic, sum(auth) / count(*) * 100 as pct\n",
    "    FROM (\n",
    "        SELECT CASE WHEN lower(text) LIKE \"%authentic%\" THEN 1 ELSE 0 END as auth\n",
    "        FROM reviews\n",
    "        )\n",
    "    \"\"\")\n",
    "\n",
    "P2_1.toPandas().to_csv(\"results/p2_1.csv\", header=True, index=False, encoding='utf-8')\n",
    "P2_1.show()"
   ]
  },
  {
   "attachments": {},
   "cell_type": "markdown",
   "id": "72d81c86-200a-456f-a71d-ae2828e83be3",
   "metadata": {},
   "source": [
    "#### Q2: How many reviews contain the string \"legitimate\" grouped by type of cuisine?"
   ]
  },
  {
   "cell_type": "code",
   "execution_count": 17,
   "id": "246efab6-4358-42c4-a3a8-4d31bed19579",
   "metadata": {
    "execution": {
     "iopub.execute_input": "2023-05-08T12:23:26.634640Z",
     "iopub.status.busy": "2023-05-08T12:23:26.633704Z",
     "iopub.status.idle": "2023-05-08T12:23:35.923252Z",
     "shell.execute_reply": "2023-05-08T12:23:35.921857Z",
     "shell.execute_reply.started": "2023-05-08T12:23:26.634563Z"
    },
    "tags": []
   },
   "outputs": [
    {
     "name": "stdout",
     "output_type": "stream",
     "text": [
      "+--------------------+---------+-----------+------------------+\n",
      "|             cuisine|legit_cnt|tot_reviews|           percent|\n",
      "+--------------------+---------+-----------+------------------+\n",
      "|    American Cuisine|      501|      12730|3.9355852317360567|\n",
      "|    European Cuisine|      319|       8005| 3.985009369144285|\n",
      "|       Asian Cuisine|      273|       5738|  4.75775531544092|\n",
      "|South American Cu...|      219|       4624| 4.736159169550173|\n",
      "|             Unknown|      120|       4149|2.8922631959508314|\n",
      "|Middle Eastern / ...|       39|        692| 5.635838150289017|\n",
      "+--------------------+---------+-----------+------------------+\n",
      "\n"
     ]
    }
   ],
   "source": [
    "P2_2 = spark.sql(\"\"\"\n",
    "    SELECT cuisine, count(r.text) as legit_cnt, count(*) as tot_reviews, count(r.text) / count(*) * 100 as percent\n",
    "    FROM restaurants b\n",
    "        LEFT JOIN (select business_id, text FROM reviews WHERE text LIKE \"%legitimate%\") r\n",
    "            ON b.business_id = r.business_id\n",
    "    GROUP BY cuisine\n",
    "    \"\"\")\n",
    "\n",
    "P2_2.toPandas().to_csv(\"results/p2_2.csv\", header=True, index=False, encoding='utf-8')\n",
    "P2_2.orderBy(P2_2.legit_cnt, ascending=False).show()"
   ]
  },
  {
   "attachments": {},
   "cell_type": "markdown",
   "id": "4902fb30-6d89-45cf-b8bc-2c122936c47b",
   "metadata": {},
   "source": [
    "#### Q3 Is there a difference in the amount of authenticity language used in the different areas? (e.g., by state, north/south, urban/rural)"
   ]
  },
  {
   "cell_type": "code",
   "execution_count": 18,
   "id": "47ec7bf7-92e7-46f6-ab61-6a0b3c35851c",
   "metadata": {
    "execution": {
     "iopub.execute_input": "2023-05-08T12:23:35.925835Z",
     "iopub.status.busy": "2023-05-08T12:23:35.925193Z",
     "iopub.status.idle": "2023-05-08T12:23:55.010852Z",
     "shell.execute_reply": "2023-05-08T12:23:55.009466Z",
     "shell.execute_reply.started": "2023-05-08T12:23:35.925783Z"
    },
    "tags": []
   },
   "outputs": [
    {
     "name": "stdout",
     "output_type": "stream",
     "text": [
      "+-------------------+-----+-------------+--------------+---+\n",
      "|               city|state|total_reviews|with_authentic|pct|\n",
      "+-------------------+-----+-------------+--------------+---+\n",
      "|      Pass-a-Grille|   FL|            5|             0|0.0|\n",
      "|              Bosie|   ID|           21|             0|0.0|\n",
      "|            Delanco|   NJ|           55|             0|0.0|\n",
      "|              Lemay|   MO|           33|             0|0.0|\n",
      "|        TWN N CNTRY|   FL|            8|             0|0.0|\n",
      "|              Erial|   NJ|           52|             0|0.0|\n",
      "|Holland Southampton|   PA|           15|             0|0.0|\n",
      "|        Talleyville|   DE|          253|             0|0.0|\n",
      "|            Bellair|   FL|           11|             0|0.0|\n",
      "|         Petersburg|   FL|           68|             0|0.0|\n",
      "|            Truckee|   CA|          198|             0|0.0|\n",
      "|           Lavergne|   TN|           13|             0|0.0|\n",
      "|      Carneys Point|   NJ|          154|             0|0.0|\n",
      "|    Monroe Township|   NJ|          119|             0|0.0|\n",
      "|            Oreland|   PA|          567|             0|0.0|\n",
      "|           abington|   PA|            5|             0|0.0|\n",
      "|      Staint Albert|   AB|            8|             0|0.0|\n",
      "|        Treasure Is|   FL|          151|             0|0.0|\n",
      "|       Southeastern|   PA|           16|             0|0.0|\n",
      "|           Hilltown|   PA|           63|             0|0.0|\n",
      "+-------------------+-----+-------------+--------------+---+\n",
      "only showing top 20 rows\n",
      "\n"
     ]
    }
   ],
   "source": [
    "P2_3 = spark.sql(\"\"\"\n",
    "    SELECT b.city, b.state, count(*) as total_reviews, sum(r.auth) as with_authentic, sum(r.auth) / count(*) * 100 as pct\n",
    "    FROM (\n",
    "        SELECT *, CASE WHEN lower(text) LIKE \"%authentic%\" THEN 1 ELSE 0 END as auth\n",
    "        FROM reviews\n",
    "        ) r\n",
    "        LEFT JOIN business b ON b.business_id = r.business_id\n",
    "    GROUP BY b.city, b.state\n",
    "    \"\"\")\n",
    "\n",
    "P2_3.toPandas().to_csv(\"results/p2_3.csv\", header=True, index=False, encoding='utf-8')\n",
    "P2_3.orderBy(P2_3.pct).show()"
   ]
  },
  {
   "attachments": {},
   "cell_type": "markdown",
   "id": "781c6b4a-c9d8-4a45-92db-3ffdbb3547ea",
   "metadata": {},
   "source": [
    "### Hypothesis Testing\n",
    "#### We want to test whether it is actually true that authenticity-implying words and down-grading words are generally present within the reviews of restaurants of specific cuisines"
   ]
  },
  {
   "cell_type": "code",
   "execution_count": 19,
   "id": "f41c9c5b-c1cb-498a-8d9a-d295623ee229",
   "metadata": {
    "execution": {
     "iopub.execute_input": "2023-05-08T12:23:55.013300Z",
     "iopub.status.busy": "2023-05-08T12:23:55.012689Z",
     "iopub.status.idle": "2023-05-08T12:23:55.910203Z",
     "shell.execute_reply": "2023-05-08T12:23:55.908198Z",
     "shell.execute_reply.started": "2023-05-08T12:23:55.013257Z"
    },
    "tags": []
   },
   "outputs": [],
   "source": [
    "query_text = f\"\"\"\n",
    "    SELECT b.cuisine,\n",
    "        count(*) as total_reviews, \n",
    "        sum(r.auth) as with_authentic, \n",
    "        sum(r.bad_review) as bad_reviews, \n",
    "        sum(r.auth_in_bad_review) as bad_review_with_auth,\n",
    "        sum(r.auth) / count(*) * 100 as with_authentic_pct, \n",
    "        sum(r.bad_review) / count(*) * 100 as bad_reviews_pct, \n",
    "        sum(r.auth_in_bad_review) / count(*) * 100 as bad_review_with_auth_pct,\n",
    "        sum(r.auth_in_bad_review) / sum(r.bad_review) * 100 as bad_bad_review_with_auth_pct\n",
    "    FROM (\n",
    "        SELECT business_id, \n",
    "            CASE WHEN {auth_string} THEN 1 ELSE 0 END as auth,\n",
    "            CASE WHEN {bad_string} THEN 1 ELSE 0 END as bad_review,\n",
    "            CASE WHEN ({auth_string}) AND ({bad_string}) THEN 1 ELSE 0 END as auth_in_bad_review\n",
    "        FROM reviews\n",
    "        ) r\n",
    "        LEFT JOIN restaurants b ON b.business_id = r.business_id\n",
    "    WHERE b.cuisine is not null\n",
    "    GROUP BY b.cuisine\n",
    "    \"\"\"\n",
    "hypo_test = spark.sql(query_text)"
   ]
  },
  {
   "cell_type": "code",
   "execution_count": 20,
   "id": "1327021a-bae2-4b95-aa9d-19c2546632fb",
   "metadata": {
    "execution": {
     "iopub.execute_input": "2023-05-08T12:23:55.912888Z",
     "iopub.status.busy": "2023-05-08T12:23:55.912233Z",
     "iopub.status.idle": "2023-05-08T12:24:42.607454Z",
     "shell.execute_reply": "2023-05-08T12:24:42.543680Z",
     "shell.execute_reply.started": "2023-05-08T12:23:55.912843Z"
    },
    "tags": []
   },
   "outputs": [
    {
     "name": "stdout",
     "output_type": "stream",
     "text": [
      "+--------------------+-------------+--------------+-----------+--------------------+------------------+------------------+------------------------+----------------------------+\n",
      "|             cuisine|total_reviews|with_authentic|bad_reviews|bad_review_with_auth|with_authentic_pct|   bad_reviews_pct|bad_review_with_auth_pct|bad_bad_review_with_auth_pct|\n",
      "+--------------------+-------------+--------------+-----------+--------------------+------------------+------------------+------------------------+----------------------------+\n",
      "|South American Cu...|       338048|         40129|      28059|                3624|11.870799413101098| 8.300300549034457|      1.0720371071563801|           12.91564203998717|\n",
      "|       Asian Cuisine|       432387|         37533|      34451|                3178| 8.680418236440966| 7.967630849216095|      0.7349897198574425|           9.224695944965312|\n",
      "|Middle Eastern / ...|        57644|          5614|       3821|                 342|  9.73908819651655| 6.628617028658663|      0.5932967871764624|           8.950536508767339|\n",
      "|    European Cuisine|       551884|         31179|      41325|                2498| 5.649556790919831| 7.487986605880946|     0.45263135006631827|           6.044767090139141|\n",
      "|             Unknown|       218190|          9403|      16507|                 764| 4.309546725331134| 7.565424629909712|     0.35015353590907006|           4.628339492336584|\n",
      "|    American Cuisine|      1046586|         37608|      81579|                3084|  3.59339796251813|7.7947727181521635|     0.29467239194867884|            3.78038465781635|\n",
      "+--------------------+-------------+--------------+-----------+--------------------+------------------+------------------+------------------------+----------------------------+\n",
      "\n"
     ]
    }
   ],
   "source": [
    "hypo_test.orderBy(hypo_test.bad_bad_review_with_auth_pct, ascending=False).toPandas().to_csv('results/bad_and_auth_cuisines.csv')\n",
    "hypo_test.orderBy(hypo_test.bad_bad_review_with_auth_pct, ascending=False).show()"
   ]
  },
  {
   "attachments": {},
   "cell_type": "markdown",
   "id": "a5634c55-2f95-4a73-b501-16c36bc133fc",
   "metadata": {},
   "source": [
    "### By State & Cuisine"
   ]
  },
  {
   "cell_type": "code",
   "execution_count": 21,
   "id": "187fa2df-a815-49a9-8745-1ac4bf9eb748",
   "metadata": {
    "execution": {
     "iopub.execute_input": "2023-05-08T12:24:42.609981Z",
     "iopub.status.busy": "2023-05-08T12:24:42.609408Z",
     "iopub.status.idle": "2023-05-08T12:24:42.828731Z",
     "shell.execute_reply": "2023-05-08T12:24:42.827654Z",
     "shell.execute_reply.started": "2023-05-08T12:24:42.609942Z"
    },
    "tags": []
   },
   "outputs": [],
   "source": [
    "query_text = f\"\"\"\n",
    "    SELECT b.cuisine, b.state,\n",
    "        count(*) as total_reviews, \n",
    "        sum(r.auth) as with_authentic, \n",
    "        sum(r.bad_review) as bad_reviews, \n",
    "        sum(r.auth_in_bad_review) as bad_review_with_auth,\n",
    "        sum(r.auth) / count(*) * 100 as with_authentic_pct, \n",
    "        sum(r.bad_review) / count(*) * 100 as bad_reviews_pct, \n",
    "        sum(r.auth_in_bad_review) / count(*) * 100 as bad_review_with_auth_pct,\n",
    "        sum(r.auth_in_bad_review) / sum(r.bad_review) * 100 as bad_bad_review_with_auth_pct\n",
    "    FROM \n",
    "        restaurants b\n",
    "        LEFT JOIN(\n",
    "        SELECT business_id, \n",
    "            CASE WHEN {auth_string} THEN 1 ELSE 0 END as auth,\n",
    "            CASE WHEN {bad_string} THEN 1 ELSE 0 END as bad_review,\n",
    "            CASE WHEN ({auth_string}) AND ({bad_string}) THEN 1 ELSE 0 END as auth_in_bad_review\n",
    "        FROM reviews\n",
    "        ) r ON b.business_id = r.business_id\n",
    "    WHERE b.review_count > 0\n",
    "    GROUP BY b.cuisine, b.state\n",
    "    \"\"\"\n",
    "hypo_test_by_state = spark.sql(query_text)"
   ]
  },
  {
   "cell_type": "code",
   "execution_count": 22,
   "id": "414d97e8-e12c-448c-bbb1-86c19012b787",
   "metadata": {
    "execution": {
     "iopub.execute_input": "2023-05-08T12:24:42.831059Z",
     "iopub.status.busy": "2023-05-08T12:24:42.830496Z",
     "iopub.status.idle": "2023-05-08T12:25:37.133272Z",
     "shell.execute_reply": "2023-05-08T12:25:37.132197Z",
     "shell.execute_reply.started": "2023-05-08T12:24:42.831020Z"
    },
    "tags": []
   },
   "outputs": [
    {
     "name": "stdout",
     "output_type": "stream",
     "text": [
      "+--------------------+-----+-------------+--------------+-----------+--------------------+------------------+------------------+------------------------+----------------------------+\n",
      "|             cuisine|state|total_reviews|with_authentic|bad_reviews|bad_review_with_auth|with_authentic_pct|   bad_reviews_pct|bad_review_with_auth_pct|bad_bad_review_with_auth_pct|\n",
      "+--------------------+-----+-------------+--------------+-----------+--------------------+------------------+------------------+------------------------+----------------------------+\n",
      "|South American Cu...|   PA|        56176|          7554|       4865|                 765|13.447023639988606| 8.660281970948448|      1.3617915123896325|          15.724563206577596|\n",
      "|       Asian Cuisine|   AB|        14862|          1225|       1297|                 108| 8.242497645000672| 8.726954649441529|      0.7266855066612838|           8.326908249807248|\n",
      "|    European Cuisine|   ID|        10721|           696|        811|                  80| 6.491931722787053|  7.56459285514411|      0.7461990485962131|           9.864364981504316|\n",
      "|             Unknown|   LA|        34053|          1692|       2455|                 116| 4.968725222447361| 7.209350130678647|     0.34064546442310517|           4.725050916496945|\n",
      "|Middle Eastern / ...|   CA|          868|            53|         81|                   5| 6.105990783410138| 9.331797235023041|      0.5760368663594471|           6.172839506172839|\n",
      "|Middle Eastern / ...|   IN|         3139|           324|        139|                  15|10.321758521822236| 4.428161834979292|     0.47785919082510353|           10.79136690647482|\n",
      "|South American Cu...|   FL|        76520|          9759|       5594|                 744|12.753528489283847| 7.310507056978567|      0.9722948248823837|          13.299964247407935|\n",
      "|    American Cuisine|   CA|        43057|          1423|       2917|                  86|3.3049213832826254|  6.77474046032004|     0.19973523468890075|          2.9482344874871442|\n",
      "|       Asian Cuisine|   IL|         3199|           159|        248|                  10| 4.970303219756174|7.7524226320725225|     0.31259768677711786|           4.032258064516129|\n",
      "|    American Cuisine|   AZ|        49404|          1591|       4231|                 138|3.2203870131973122| 8.564083879847786|     0.27932960893854747|          3.2616402741668638|\n",
      "|       Asian Cuisine|   PA|       135528|         12139|      12415|                1220| 8.956820730771502| 9.160468685437696|      0.9001829880172363|           9.826822392267418|\n",
      "|South American Cu...|   NJ|        12245|          2051|        899|                 137|16.749693752552062| 7.341772151898734|      1.1188240097999185|          15.239154616240267|\n",
      "|    American Cuisine|   IL|         9914|           231|        914|                  16|  2.33003832963486| 9.219285858382085|      0.1613879362517652|            1.75054704595186|\n",
      "|       Asian Cuisine|   IN|        30417|          2483|       2201|                 184|  8.16319821152645| 7.236085083999079|      0.6049248775355887|           8.359836437982734|\n",
      "|    American Cuisine|   IN|        76541|          2475|       6441|                 243| 3.233561097973635|  8.41509779072654|      0.3174769078010478|           3.772706101537028|\n",
      "|    European Cuisine|   AB|         9991|           650|        860|                  78| 6.505855269742769| 8.607746972275047|      0.7807026323691322|           9.069767441860465|\n",
      "|Middle Eastern / ...|   LA|         8214|           654|        512|                  40| 7.962016070124179| 6.233260287314342|     0.48697345994643293|                      7.8125|\n",
      "|South American Cu...|   DE|         3698|           552|        253|                  43|14.926987560843699| 6.841535965386695|      1.1627906976744187|           16.99604743083004|\n",
      "|    American Cuisine|   NV|        53527|          1519|       4306|                 132|2.8378201655239415| 8.044538270405589|     0.24660451734638592|          3.0654900139340455|\n",
      "|             Unknown|   NJ|         9063|           308|        795|                  31|3.3984331898929714| 8.771929824561402|     0.34205009378792894|            3.89937106918239|\n",
      "+--------------------+-----+-------------+--------------+-----------+--------------------+------------------+------------------+------------------------+----------------------------+\n",
      "only showing top 20 rows\n",
      "\n"
     ]
    }
   ],
   "source": [
    "hypo_test_by_state.toPandas().to_csv('results/bad_and_auth_cuisines_by_state.csv', index=False)\n",
    "hypo_test_by_state.show()"
   ]
  },
  {
   "attachments": {},
   "cell_type": "markdown",
   "id": "db498a8e-93b1-4f51-9cba-4db281807fd2",
   "metadata": {},
   "source": [
    "### Ranking Cuisines By State, \n",
    "Based On percentage of bad reviews containing authenticity language"
   ]
  },
  {
   "cell_type": "code",
   "execution_count": 23,
   "id": "22d0c421-f297-4abc-87c3-484611532975",
   "metadata": {
    "execution": {
     "iopub.execute_input": "2023-05-08T12:25:37.208663Z",
     "iopub.status.busy": "2023-05-08T12:25:37.207893Z",
     "iopub.status.idle": "2023-05-08T12:25:38.229044Z",
     "shell.execute_reply": "2023-05-08T12:25:38.227660Z",
     "shell.execute_reply.started": "2023-05-08T12:25:37.208609Z"
    },
    "tags": []
   },
   "outputs": [],
   "source": [
    "by_state = spark.read.option(\"header\", \"true\").csv('file:////work/results/bad_and_auth_cuisines_by_state.csv')\n",
    "by_state.createOrReplaceTempView('by_state')"
   ]
  },
  {
   "cell_type": "code",
   "execution_count": 24,
   "id": "19d02507-7b5a-495e-ab0c-bd8be5abbccf",
   "metadata": {
    "execution": {
     "iopub.execute_input": "2023-05-08T12:25:38.231707Z",
     "iopub.status.busy": "2023-05-08T12:25:38.231040Z",
     "iopub.status.idle": "2023-05-08T12:25:39.217188Z",
     "shell.execute_reply": "2023-05-08T12:25:39.215803Z",
     "shell.execute_reply.started": "2023-05-08T12:25:38.231655Z"
    },
    "tags": []
   },
   "outputs": [
    {
     "name": "stdout",
     "output_type": "stream",
     "text": [
      "+-----+--------------------+----+----------------------------+\n",
      "|state|             cuisine|rank|bad_bad_review_with_auth_pct|\n",
      "+-----+--------------------+----+----------------------------+\n",
      "|   AB|South American Cu...|   1|           23.83419689119171|\n",
      "|   AB|    European Cuisine|   2|           9.069767441860465|\n",
      "|   AB|Middle Eastern / ...|   3|                     8.59375|\n",
      "|   AB|       Asian Cuisine|   4|           8.326908249807248|\n",
      "|   AB|             Unknown|   5|           6.388888888888888|\n",
      "|   AB|    American Cuisine|   6|           3.494837172359015|\n",
      "|   AZ|South American Cu...|   1|           8.911483253588516|\n",
      "|   AZ|Middle Eastern / ...|   2|                        8.75|\n",
      "|   AZ|       Asian Cuisine|   3|           8.035714285714286|\n",
      "|   AZ|    European Cuisine|   4|           5.328504914640455|\n",
      "|   AZ|             Unknown|   5|           3.898635477582846|\n",
      "|   AZ|    American Cuisine|   6|          3.2616402741668638|\n",
      "|   CA|South American Cu...|   1|          13.648528099910795|\n",
      "|   CA|       Asian Cuisine|   2|           8.774703557312254|\n",
      "|   CA|Middle Eastern / ...|   3|           6.172839506172839|\n",
      "|   CA|    European Cuisine|   4|           5.215540180947312|\n",
      "|   CA|             Unknown|   5|          3.6363636363636362|\n",
      "|   CA|    American Cuisine|   6|          2.9482344874871442|\n",
      "|   CO|             Unknown|   1|                         0.0|\n",
      "|   DE|South American Cu...|   1|           16.99604743083004|\n",
      "+-----+--------------------+----+----------------------------+\n",
      "only showing top 20 rows\n",
      "\n"
     ]
    }
   ],
   "source": [
    "rank_by_state = spark.sql(\"\"\"\n",
    "SELECT state, cuisine,\n",
    "    RANK() OVER (PARTITION BY state ORDER BY float(bad_bad_review_with_auth_pct) DESC) as rank,\n",
    "    bad_bad_review_with_auth_pct\n",
    "FROM by_state\n",
    "\"\"\")\n",
    "\n",
    "rank_by_state.show()"
   ]
  },
  {
   "cell_type": "code",
   "execution_count": 25,
   "id": "b0b04966-c9a3-4c9e-b634-e6e293ec6cda",
   "metadata": {
    "execution": {
     "iopub.execute_input": "2023-05-08T12:25:39.219959Z",
     "iopub.status.busy": "2023-05-08T12:25:39.219294Z",
     "iopub.status.idle": "2023-05-08T12:25:39.914185Z",
     "shell.execute_reply": "2023-05-08T12:25:39.912706Z",
     "shell.execute_reply.started": "2023-05-08T12:25:39.219898Z"
    },
    "tags": []
   },
   "outputs": [],
   "source": [
    "rank_by_state_pivot = rank_by_state.toPandas()\n",
    "rank_by_state_pivot = rank_by_state_pivot.pivot(index='state', columns='rank', values='cuisine')"
   ]
  },
  {
   "cell_type": "code",
   "execution_count": 26,
   "id": "3aa3ddc5-ca0f-4682-8578-a66e06991221",
   "metadata": {
    "execution": {
     "iopub.execute_input": "2023-05-08T12:25:39.916970Z",
     "iopub.status.busy": "2023-05-08T12:25:39.916303Z",
     "iopub.status.idle": "2023-05-08T12:25:40.023007Z",
     "shell.execute_reply": "2023-05-08T12:25:40.021852Z",
     "shell.execute_reply.started": "2023-05-08T12:25:39.916904Z"
    },
    "tags": []
   },
   "outputs": [],
   "source": [
    "rank_by_state_pivot.to_csv('results/ranked_cuisines.csv')"
   ]
  },
  {
   "cell_type": "code",
   "execution_count": 37,
   "id": "6b5fa5e3-4d30-43a1-b0b9-dfd817ae41a9",
   "metadata": {
    "execution": {
     "iopub.execute_input": "2023-05-08T12:30:04.830294Z",
     "iopub.status.busy": "2023-05-08T12:30:04.829766Z",
     "iopub.status.idle": "2023-05-08T12:30:05.012382Z",
     "shell.execute_reply": "2023-05-08T12:30:05.011251Z",
     "shell.execute_reply.started": "2023-05-08T12:30:04.830251Z"
    },
    "tags": []
   },
   "outputs": [],
   "source": [
    "cuisine_avg_rank = rank_by_state.groupBy('cuisine').agg({'rank':'avg', 'bad_bad_review_with_auth_pct':'avg'}).orderBy('avg(rank)')"
   ]
  },
  {
   "cell_type": "code",
   "execution_count": 38,
   "id": "f1eb3ce2-e43c-43b8-bea6-7053bc73e3d0",
   "metadata": {
    "execution": {
     "iopub.execute_input": "2023-05-08T12:30:05.014893Z",
     "iopub.status.busy": "2023-05-08T12:30:05.014321Z",
     "iopub.status.idle": "2023-05-08T12:30:07.010341Z",
     "shell.execute_reply": "2023-05-08T12:30:07.009095Z",
     "shell.execute_reply.started": "2023-05-08T12:30:05.014852Z"
    },
    "tags": []
   },
   "outputs": [
    {
     "name": "stdout",
     "output_type": "stream",
     "text": [
      "+--------------------+---------------------------------+------------------+\n",
      "|             cuisine|avg(bad_bad_review_with_auth_pct)|         avg(rank)|\n",
      "+--------------------+---------------------------------+------------------+\n",
      "|South American Cu...|               13.310548375405846|1.2142857142857142|\n",
      "|       Asian Cuisine|                8.536128832271766|2.7142857142857144|\n",
      "|Middle Eastern / ...|                7.533637451779849|               3.0|\n",
      "|    European Cuisine|                6.079933772364769| 3.642857142857143|\n",
      "|             Unknown|                4.462931935634457|               4.4|\n",
      "|    American Cuisine|                4.091874099768016|            5.1875|\n",
      "+--------------------+---------------------------------+------------------+\n",
      "\n"
     ]
    }
   ],
   "source": [
    "cuisine_avg_rank.toPandas().to_csv('results/ranked_cuisines_avg.csv')\n",
    "cuisine_avg_rank.show()"
   ]
  },
  {
   "attachments": {},
   "cell_type": "markdown",
   "id": "681944df-eeb3-432c-b0c2-3ce6dd820739",
   "metadata": {},
   "source": [
    "# Part 3 - Machine Learning\n",
    "#### We want to predict the rating in a review given the review text etc.\n",
    "## Data Gathering\n",
    "#### We want to extract meaningful features in order to get good predictions on the rating"
   ]
  },
  {
   "cell_type": "code",
   "execution_count": 48,
   "id": "8d9e988e-26b6-464a-ad08-4a122942731b",
   "metadata": {
    "execution": {
     "iopub.execute_input": "2023-05-08T12:40:04.308257Z",
     "iopub.status.busy": "2023-05-08T12:40:04.307558Z",
     "iopub.status.idle": "2023-05-08T12:40:12.387930Z",
     "shell.execute_reply": "2023-05-08T12:40:12.386497Z",
     "shell.execute_reply.started": "2023-05-08T12:40:04.308205Z"
    },
    "tags": []
   },
   "outputs": [
    {
     "name": "stdout",
     "output_type": "stream",
     "text": [
      "+--------------------+--------------+---------------+--------------+------------------+-------------------+----+----------+-----+\n",
      "|                text|user_avg_stars|user_review_cnt|business_state|business_avg_stars|business_review_cnt|auth|bad_review|label|\n",
      "+--------------------+--------------+---------------+--------------+------------------+-------------------+----+----------+-----+\n",
      "|Good beer but pri...|          4.33|              9|            DE|               4.5|                 49|   0|         0|    3|\n",
      "|Off the beaten pa...|          4.23|             43|            PA|               4.5|                139|   0|         0|    5|\n",
      "|Ocean View on a b...|          4.06|             15|            FL|               3.5|                662|   0|         0|    4|\n",
      "|I have been searc...|          4.17|             29|            PA|               4.0|                120|   1|         0|    5|\n",
      "|My favorite nail ...|           5.0|              1|            FL|               2.5|                121|   0|         0|    5|\n",
      "|Came with a group...|          3.76|            477|            MO|               2.5|                 44|   0|         0|    5|\n",
      "|Giving 4 stars on...|          3.69|             29|            FL|               4.5|                121|   0|         0|    4|\n",
      "|Amazing, authenti...|           4.5|             12|            PA|               4.0|                762|   1|         0|    5|\n",
      "|It's a little emb...|          3.77|            353|            AB|               4.5|                  5|   0|         0|    4|\n",
      "|The name could no...|          4.06|            281|            TN|               4.0|                 64|   0|         0|    5|\n",
      "|Cute, cozy atmosp...|           4.4|            109|            PA|               4.5|                105|   0|         0|    4|\n",
      "|I was thrilled wi...|          3.84|             19|            LA|               4.5|               3837|   0|         0|    5|\n",
      "|Good food,  great...|          4.22|              9|            PA|               4.0|                420|   0|         0|    5|\n",
      "|Came here for bru...|           4.3|             23|            PA|               3.5|                441|   0|         0|    4|\n",
      "|I would not recom...|           1.0|              1|            AB|               1.5|                 34|   0|         0|    1|\n",
      "|Nice place for a ...|          3.89|             85|            FL|               3.0|                 85|   0|         0|    4|\n",
      "|Great new locatio...|          3.75|             15|            NV|               4.5|                 70|   0|         0|    4|\n",
      "|Hothouse Coffee w...|           5.0|              3|            PA|               3.5|                126|   0|         0|    5|\n",
      "|I had a blast! Wh...|          3.83|             12|            DE|               4.5|                102|   0|         0|    5|\n",
      "|Caveat: not a rev...|          3.68|            149|            PA|               4.0|                755|   0|         0|    2|\n",
      "+--------------------+--------------+---------------+--------------+------------------+-------------------+----+----------+-----+\n",
      "only showing top 20 rows\n",
      "\n"
     ]
    }
   ],
   "source": [
    "review_features = spark.sql(f\"\"\"\n",
    "    SELECT \n",
    "        text, \n",
    "        float(u.average_stars) as user_avg_stars, \n",
    "        int(u.review_count) as user_review_cnt,\n",
    "        b.state as business_state,\n",
    "        float(b.stars) as business_avg_stars,\n",
    "        int(b.review_count) as business_review_cnt,\n",
    "        CASE WHEN {auth_string} THEN 1 ELSE 0 END as auth,\n",
    "        CASE WHEN {bad_string} THEN 1 ELSE 0 END as bad_review,\n",
    "        int(r.stars) as label\n",
    "    FROM reviews r\n",
    "        LEFT JOIN users u ON r.user_id = u.user_id\n",
    "        LEFT JOIN business b ON r.business_id = b.business_id\n",
    "    \"\"\")\n",
    "review_features.show()"
   ]
  },
  {
   "attachments": {},
   "cell_type": "markdown",
   "id": "2c3127bb-13f9-4548-b52e-95d80a11035b",
   "metadata": {},
   "source": [
    "## Data Splitting & Preprocessing"
   ]
  },
  {
   "cell_type": "code",
   "execution_count": 49,
   "id": "f5a8776f-6729-45c8-b7d9-35739e981eaf",
   "metadata": {
    "execution": {
     "iopub.execute_input": "2023-05-08T12:40:12.441385Z",
     "iopub.status.busy": "2023-05-08T12:40:12.440784Z",
     "iopub.status.idle": "2023-05-08T12:40:12.463070Z",
     "shell.execute_reply": "2023-05-08T12:40:12.461679Z",
     "shell.execute_reply.started": "2023-05-08T12:40:12.441339Z"
    },
    "tags": []
   },
   "outputs": [],
   "source": [
    "train, test = review_features.randomSplit([0.9, 0.1], seed=12345)"
   ]
  },
  {
   "cell_type": "code",
   "execution_count": 50,
   "id": "d6b39d7d-c96f-45d7-8dc4-039b6ebb9a6b",
   "metadata": {
    "execution": {
     "iopub.execute_input": "2023-05-08T12:40:12.467113Z",
     "iopub.status.busy": "2023-05-08T12:40:12.466342Z",
     "iopub.status.idle": "2023-05-08T12:40:12.647856Z",
     "shell.execute_reply": "2023-05-08T12:40:12.646244Z",
     "shell.execute_reply.started": "2023-05-08T12:40:12.467051Z"
    },
    "tags": []
   },
   "outputs": [],
   "source": [
    "assembler = VectorAssembler(\n",
    "    inputCols=[\"user_avg_stars\", \"user_review_cnt\", \"business_avg_stars\", \"business_review_cnt\", \"auth\", \"bad_review\"],\n",
    "    outputCol=\"features\", handleInvalid=\"skip\")\n",
    "\n",
    "indexer = StringIndexer(inputCol=\"business_state\", outputCol=\"business_state_index\", handleInvalid=\"keep\")\n",
    "encoder = OneHotEncoder(inputCols=[\"business_state_index\"], outputCols=[\"business_state_1hot\"], handleInvalid=\"keep\")\n",
    "assembler_w_state = VectorAssembler(\n",
    "    inputCols=[\"user_avg_stars\", \"user_review_cnt\", \"business_avg_stars\", \"business_review_cnt\", \"auth\", \"bad_review\", \"business_state_1hot\"],\n",
    "    outputCol=\"features\", handleInvalid=\"skip\")"
   ]
  },
  {
   "cell_type": "code",
   "execution_count": 51,
   "id": "4112023c-ffde-45bd-9c39-9f36919aeacc",
   "metadata": {
    "execution": {
     "iopub.execute_input": "2023-05-08T12:40:12.650332Z",
     "iopub.status.busy": "2023-05-08T12:40:12.649719Z",
     "iopub.status.idle": "2023-05-08T12:40:54.740686Z",
     "shell.execute_reply": "2023-05-08T12:40:54.739307Z",
     "shell.execute_reply.started": "2023-05-08T12:40:12.650290Z"
    },
    "tags": []
   },
   "outputs": [],
   "source": [
    "pre_pipe = Pipeline(stages=[assembler])\n",
    "m = pre_pipe.fit(train)\n",
    "train_pre = m.transform(train)\n",
    "test_pre = m.transform(test)\n",
    "\n",
    "pre_pipe_w_state = Pipeline(stages=[indexer, encoder, assembler_w_state])\n",
    "m_w_state = pre_pipe_w_state.fit(train)\n",
    "train_pre_w_state = m_w_state.transform(train)\n",
    "test_pre_w_state = m_w_state.transform(test)"
   ]
  },
  {
   "attachments": {},
   "cell_type": "markdown",
   "id": "c71ed404-53d4-4e58-8358-e3922a584d12",
   "metadata": {},
   "source": [
    "## Classifier "
   ]
  },
  {
   "cell_type": "code",
   "execution_count": 52,
   "id": "8edade20-6020-475b-8ba4-5aa103cede68",
   "metadata": {
    "execution": {
     "iopub.execute_input": "2023-05-08T12:40:54.743471Z",
     "iopub.status.busy": "2023-05-08T12:40:54.742796Z",
     "iopub.status.idle": "2023-05-08T12:42:25.355377Z",
     "shell.execute_reply": "2023-05-08T12:42:25.353908Z",
     "shell.execute_reply.started": "2023-05-08T12:40:54.743414Z"
    },
    "tags": []
   },
   "outputs": [],
   "source": [
    "lr = LinearRegression(maxIter=20, regParam=0.3, elasticNetParam=0.8)\n",
    "lrModel = lr.fit(train_pre)"
   ]
  },
  {
   "cell_type": "code",
   "execution_count": 53,
   "id": "cbe19deb-faba-4a2a-9a0b-7da8c976eee1",
   "metadata": {
    "execution": {
     "iopub.execute_input": "2023-05-08T12:42:25.357799Z",
     "iopub.status.busy": "2023-05-08T12:42:25.357192Z",
     "iopub.status.idle": "2023-05-08T12:42:25.416897Z",
     "shell.execute_reply": "2023-05-08T12:42:25.415867Z",
     "shell.execute_reply.started": "2023-05-08T12:42:25.357747Z"
    },
    "tags": []
   },
   "outputs": [
    {
     "name": "stdout",
     "output_type": "stream",
     "text": [
      "Coefficients: [0.5814306339455517,0.0,0.41635519001146554,0.0,0.0,0.0]\n",
      "Intercept: 0.008366747345772422\n",
      "RMSE: 1.148190\n",
      "r2: 0.397000\n"
     ]
    }
   ],
   "source": [
    "print(\"Coefficients: %s\" % str(lrModel.coefficients))\n",
    "print(\"Intercept: %s\" % str(lrModel.intercept))\n",
    "\n",
    "# Summarize the model over the training set and print out some metrics\n",
    "trainingSummary = lrModel.summary\n",
    "# print(\"numIterations: %d\" % trainingSummary.totalIterations)\n",
    "# print(\"objectiveHistory: %s\" % str(trainingSummary.objectiveHistory))\n",
    "# trainingSummary.residuals.show()\n",
    "print(\"RMSE: %f\" % trainingSummary.rootMeanSquaredError)\n",
    "print(\"r2: %f\" % trainingSummary.r2)"
   ]
  },
  {
   "cell_type": "code",
   "execution_count": 54,
   "id": "0fb2c9f3-d1dc-4296-bd94-f3845be2ccb7",
   "metadata": {
    "execution": {
     "iopub.execute_input": "2023-05-08T12:42:25.419600Z",
     "iopub.status.busy": "2023-05-08T12:42:25.418721Z",
     "iopub.status.idle": "2023-05-08T12:43:56.937520Z",
     "shell.execute_reply": "2023-05-08T12:43:56.936018Z",
     "shell.execute_reply.started": "2023-05-08T12:42:25.419547Z"
    },
    "tags": []
   },
   "outputs": [
    {
     "name": "stdout",
     "output_type": "stream",
     "text": [
      "+------------------+-----+--------------------+\n",
      "|        prediction|label|            features|\n",
      "+------------------+-----+--------------------+\n",
      "|3.8472007116727878|    5|[3.38000011444091...|\n",
      "| 2.833109357552433|    1|[2.71000003814697...|\n",
      "|  4.46933131255598|    5|[4.44999980926513...|\n",
      "|3.9355527344343315|    5|[3.89000010490417...|\n",
      "| 3.250601919784063|    1|[3.06999993324279...|\n",
      "+------------------+-----+--------------------+\n",
      "only showing top 5 rows\n",
      "\n"
     ]
    }
   ],
   "source": [
    "predictions = lrModel.transform(test_pre)\n",
    "\n",
    "# Select example rows to display.\n",
    "predictions.select(\"prediction\", \"label\", \"features\").show(5)\n",
    "\n",
    "# Select (prediction, true label) and compute test error\n",
    "evaluator = RegressionEvaluator(\n",
    "    labelCol=\"label\", predictionCol=\"prediction\", metricName=\"rmse\")\n",
    "rmse = evaluator.evaluate(predictions)\n",
    "evaluator = RegressionEvaluator(\n",
    "    labelCol=\"label\", predictionCol=\"prediction\", metricName=\"r2\")\n",
    "r2 = evaluator.evaluate(predictions)"
   ]
  },
  {
   "cell_type": "code",
   "execution_count": 55,
   "id": "3108a931-0c1c-41be-91ba-23608f123316",
   "metadata": {
    "execution": {
     "iopub.execute_input": "2023-05-08T12:43:56.940178Z",
     "iopub.status.busy": "2023-05-08T12:43:56.939478Z",
     "iopub.status.idle": "2023-05-08T12:43:56.946347Z",
     "shell.execute_reply": "2023-05-08T12:43:56.945396Z",
     "shell.execute_reply.started": "2023-05-08T12:43:56.940108Z"
    },
    "tags": []
   },
   "outputs": [
    {
     "name": "stdout",
     "output_type": "stream",
     "text": [
      "Test Error\n",
      "RMSE:  1.1491631769556325 \n",
      "r2:  0.39669710339085373\n"
     ]
    }
   ],
   "source": [
    "print(\"Test Error\\nRMSE: \", rmse, \"\\nr2: \", r2)"
   ]
  },
  {
   "attachments": {},
   "cell_type": "markdown",
   "id": "50b06f06-8303-4dc7-ab02-6e8d96913da0",
   "metadata": {},
   "source": [
    "## Classifier with state"
   ]
  },
  {
   "cell_type": "code",
   "execution_count": 56,
   "id": "531753d4-9987-48d9-a054-47c5e13cf746",
   "metadata": {
    "execution": {
     "iopub.execute_input": "2023-05-08T12:43:56.951232Z",
     "iopub.status.busy": "2023-05-08T12:43:56.950582Z",
     "iopub.status.idle": "2023-05-08T12:45:44.646132Z",
     "shell.execute_reply": "2023-05-08T12:45:44.644868Z",
     "shell.execute_reply.started": "2023-05-08T12:43:56.951179Z"
    },
    "tags": []
   },
   "outputs": [],
   "source": [
    "lr_w_state = LinearRegression(maxIter=20, regParam=0.3, elasticNetParam=0.8)\n",
    "lrModel_w_state = lr_w_state.fit(train_pre_w_state)"
   ]
  },
  {
   "cell_type": "code",
   "execution_count": 57,
   "id": "e6728eb2-64f0-4f54-9948-2786725d5b96",
   "metadata": {
    "execution": {
     "iopub.execute_input": "2023-05-08T12:45:44.648772Z",
     "iopub.status.busy": "2023-05-08T12:45:44.648202Z",
     "iopub.status.idle": "2023-05-08T12:45:44.717869Z",
     "shell.execute_reply": "2023-05-08T12:45:44.715772Z",
     "shell.execute_reply.started": "2023-05-08T12:45:44.648726Z"
    },
    "tags": []
   },
   "outputs": [
    {
     "name": "stdout",
     "output_type": "stream",
     "text": [
      "Coefficients: [0.5814304877605618,0.0,0.4163546147294982,0.0,0.0,0.0,0.0,0.0,0.0,0.0,0.0,0.0,0.0,0.0,0.0,0.0,0.0,0.0,0.0,0.0,0.0,0.0,0.0,0.0,0.0,0.0,0.0,0.0,0.0,0.0,0.0,0.0,0.0,0.0]\n",
      "Intercept: 0.00836945309654996\n",
      "RMSE: 1.148190\n",
      "r2: 0.397000\n"
     ]
    }
   ],
   "source": [
    "print(\"Coefficients: %s\" % str(lrModel_w_state.coefficients))\n",
    "print(\"Intercept: %s\" % str(lrModel_w_state.intercept))\n",
    "\n",
    "# Summarize the model over the training set and print out some metrics\n",
    "trainingSummary = lrModel_w_state.summary\n",
    "# print(\"numIterations: %d\" % trainingSummary.totalIterations)\n",
    "# print(\"objectiveHistory: %s\" % str(trainingSummary.objectiveHistory))\n",
    "# trainingSummary.residuals.show()\n",
    "print(\"RMSE: %f\" % trainingSummary.rootMeanSquaredError)\n",
    "print(\"r2: %f\" % trainingSummary.r2)"
   ]
  },
  {
   "cell_type": "code",
   "execution_count": 59,
   "id": "e9bbc8f3-34bb-4cc7-b0ec-7a969ff2d1c3",
   "metadata": {
    "execution": {
     "iopub.execute_input": "2023-05-08T12:49:22.946305Z",
     "iopub.status.busy": "2023-05-08T12:49:22.944677Z",
     "iopub.status.idle": "2023-05-08T12:51:05.932862Z",
     "shell.execute_reply": "2023-05-08T12:51:05.931524Z",
     "shell.execute_reply.started": "2023-05-08T12:49:22.946161Z"
    },
    "tags": []
   },
   "outputs": [
    {
     "name": "stdout",
     "output_type": "stream",
     "text": [
      "+------------------+-----+--------------------+\n",
      "|        prediction|label|            features|\n",
      "+------------------+-----+--------------------+\n",
      "|3.8472003345494294|    5|(34,[0,1,2,3,6],[...|\n",
      "|2.8331099412959806|    1|(34,[0,1,2,3,10],...|\n",
      "| 4.469330779014727|    5|(34,[0,1,2,3,5,7]...|\n",
      "| 3.935552570397614|    5|(34,[0,1,2,3,15],...|\n",
      "| 3.250602163260046|    1|(34,[0,1,2,3,13],...|\n",
      "+------------------+-----+--------------------+\n",
      "only showing top 5 rows\n",
      "\n"
     ]
    }
   ],
   "source": [
    "predictions = lrModel_w_state.transform(test_pre_w_state)\n",
    "\n",
    "# Select example rows to display.\n",
    "predictions.select(\"prediction\", \"label\", \"features\").show(5)\n",
    "\n",
    "# Select (prediction, true label) and compute test error\n",
    "evaluator = RegressionEvaluator(\n",
    "    labelCol=\"label\", predictionCol=\"prediction\", metricName=\"rmse\")\n",
    "rmse = evaluator.evaluate(predictions)\n",
    "evaluator = RegressionEvaluator(\n",
    "    labelCol=\"label\", predictionCol=\"prediction\", metricName=\"r2\")\n",
    "r2 = evaluator.evaluate(predictions)"
   ]
  },
  {
   "cell_type": "code",
   "execution_count": 60,
   "id": "df1cc39c-6faa-4847-8efe-020d9910203c",
   "metadata": {
    "execution": {
     "iopub.execute_input": "2023-05-08T13:22:40.570353Z",
     "iopub.status.busy": "2023-05-08T13:22:40.569594Z",
     "iopub.status.idle": "2023-05-08T13:22:40.577309Z",
     "shell.execute_reply": "2023-05-08T13:22:40.575976Z",
     "shell.execute_reply.started": "2023-05-08T13:22:40.570289Z"
    }
   },
   "outputs": [
    {
     "name": "stdout",
     "output_type": "stream",
     "text": [
      "Test Error\n",
      "RMSE:  1.1491633010564772 \n",
      "r2:  0.3966969730866381\n"
     ]
    }
   ],
   "source": [
    "print(\"Test Error\\nRMSE: \", rmse, \"\\nr2: \", r2)"
   ]
  },
  {
   "attachments": {},
   "cell_type": "markdown",
   "id": "1c7ce66c",
   "metadata": {},
   "source": [
    "## T-test"
   ]
  },
  {
   "cell_type": "code",
   "execution_count": 7,
   "id": "7ea4de72-9401-4fc7-a4ee-1ae79df9f45e",
   "metadata": {},
   "outputs": [],
   "source": [
    "from statsmodels.stats.weightstats import ttest_ind\n",
    "import numpy as np\n",
    "import pandas as pd"
   ]
  },
  {
   "cell_type": "code",
   "execution_count": 13,
   "id": "a06411e8",
   "metadata": {},
   "outputs": [],
   "source": [
    "rank_by_state = pd.melt(rank_by_state_pivot, id_vars='state', value_vars=['1', '2', '3', '4', '5', '6'])"
   ]
  },
  {
   "cell_type": "code",
   "execution_count": 14,
   "id": "c826cb92",
   "metadata": {},
   "outputs": [
    {
     "data": {
      "text/html": [
       "<div>\n",
       "<style scoped>\n",
       "    .dataframe tbody tr th:only-of-type {\n",
       "        vertical-align: middle;\n",
       "    }\n",
       "\n",
       "    .dataframe tbody tr th {\n",
       "        vertical-align: top;\n",
       "    }\n",
       "\n",
       "    .dataframe thead th {\n",
       "        text-align: right;\n",
       "    }\n",
       "</style>\n",
       "<table border=\"1\" class=\"dataframe\">\n",
       "  <thead>\n",
       "    <tr style=\"text-align: right;\">\n",
       "      <th></th>\n",
       "      <th>state</th>\n",
       "      <th>variable</th>\n",
       "      <th>value</th>\n",
       "    </tr>\n",
       "  </thead>\n",
       "  <tbody>\n",
       "    <tr>\n",
       "      <th>0</th>\n",
       "      <td>AB</td>\n",
       "      <td>1</td>\n",
       "      <td>Unknown</td>\n",
       "    </tr>\n",
       "    <tr>\n",
       "      <th>1</th>\n",
       "      <td>AZ</td>\n",
       "      <td>1</td>\n",
       "      <td>South American Cuisine</td>\n",
       "    </tr>\n",
       "    <tr>\n",
       "      <th>2</th>\n",
       "      <td>CA</td>\n",
       "      <td>1</td>\n",
       "      <td>South American Cuisine</td>\n",
       "    </tr>\n",
       "    <tr>\n",
       "      <th>3</th>\n",
       "      <td>CO</td>\n",
       "      <td>1</td>\n",
       "      <td>Unknown</td>\n",
       "    </tr>\n",
       "    <tr>\n",
       "      <th>4</th>\n",
       "      <td>DE</td>\n",
       "      <td>1</td>\n",
       "      <td>American Cuisine</td>\n",
       "    </tr>\n",
       "    <tr>\n",
       "      <th>...</th>\n",
       "      <td>...</td>\n",
       "      <td>...</td>\n",
       "      <td>...</td>\n",
       "    </tr>\n",
       "    <tr>\n",
       "      <th>97</th>\n",
       "      <td>NC</td>\n",
       "      <td>6</td>\n",
       "      <td>NaN</td>\n",
       "    </tr>\n",
       "    <tr>\n",
       "      <th>98</th>\n",
       "      <td>NJ</td>\n",
       "      <td>6</td>\n",
       "      <td>Middle Eastern / African Cuisine</td>\n",
       "    </tr>\n",
       "    <tr>\n",
       "      <th>99</th>\n",
       "      <td>NV</td>\n",
       "      <td>6</td>\n",
       "      <td>Middle Eastern / African Cuisine</td>\n",
       "    </tr>\n",
       "    <tr>\n",
       "      <th>100</th>\n",
       "      <td>PA</td>\n",
       "      <td>6</td>\n",
       "      <td>Middle Eastern / African Cuisine</td>\n",
       "    </tr>\n",
       "    <tr>\n",
       "      <th>101</th>\n",
       "      <td>TN</td>\n",
       "      <td>6</td>\n",
       "      <td>Middle Eastern / African Cuisine</td>\n",
       "    </tr>\n",
       "  </tbody>\n",
       "</table>\n",
       "<p>102 rows × 3 columns</p>\n",
       "</div>"
      ],
      "text/plain": [
       "    state variable                             value\n",
       "0      AB        1                           Unknown\n",
       "1      AZ        1            South American Cuisine\n",
       "2      CA        1            South American Cuisine\n",
       "3      CO        1                           Unknown\n",
       "4      DE        1                  American Cuisine\n",
       "..    ...      ...                               ...\n",
       "97     NC        6                               NaN\n",
       "98     NJ        6  Middle Eastern / African Cuisine\n",
       "99     NV        6  Middle Eastern / African Cuisine\n",
       "100    PA        6  Middle Eastern / African Cuisine\n",
       "101    TN        6  Middle Eastern / African Cuisine\n",
       "\n",
       "[102 rows x 3 columns]"
      ]
     },
     "execution_count": 14,
     "metadata": {},
     "output_type": "execute_result"
    }
   ],
   "source": [
    "rank_by_state"
   ]
  },
  {
   "cell_type": "code",
   "execution_count": 25,
   "id": "8b0d78ce",
   "metadata": {},
   "outputs": [],
   "source": [
    "n_western_ranks = []\n",
    "n_western_ranks += list(rank_by_state[rank_by_state['value'] == 'South American Cuisine']['variable'])\n",
    "n_western_ranks += list(rank_by_state[rank_by_state['value'] == 'Middle Eastern / African Cuisine']['variable'])\n",
    "n_western_ranks += list(rank_by_state[rank_by_state['value'] == 'Asian Cuisine']['variable'])"
   ]
  },
  {
   "cell_type": "code",
   "execution_count": 26,
   "id": "22cd2512",
   "metadata": {},
   "outputs": [],
   "source": [
    "western_ranks = []\n",
    "western_ranks += list(rank_by_state[rank_by_state['value'] == 'American Cuisine']['variable'])\n",
    "western_ranks += list(rank_by_state[rank_by_state['value'] == 'European Cuisine']['variable'])"
   ]
  },
  {
   "cell_type": "code",
   "execution_count": 35,
   "id": "5a5c23bf",
   "metadata": {},
   "outputs": [
    {
     "name": "stdout",
     "output_type": "stream",
     "text": [
      "3.4285714285714284 2.062222222222222\n"
     ]
    }
   ],
   "source": [
    "n_western_ranks = np.array(n_western_ranks, dtype=int)\n",
    "western_ranks = np.array(western_ranks, dtype=int)\n",
    "print(np.var(n_western_ranks), np.var(western_ranks))"
   ]
  },
  {
   "cell_type": "code",
   "execution_count": 38,
   "id": "ce1fb210",
   "metadata": {},
   "outputs": [
    {
     "data": {
      "text/plain": [
       "(2.711656775104988, 0.004215939262446738, 69.41344616522615)"
      ]
     },
     "execution_count": 38,
     "metadata": {},
     "output_type": "execute_result"
    }
   ],
   "source": [
    "ttest_ind(n_western_ranks, western_ranks, alternative='larger', usevar='unequal')"
   ]
  },
  {
   "cell_type": "code",
   "execution_count": null,
   "id": "589ca6b4",
   "metadata": {},
   "outputs": [],
   "source": []
  }
 ],
 "metadata": {
  "kernelspec": {
   "display_name": "Python 3 ",
   "language": "python",
   "name": "python3"
  },
  "language_info": {
   "codemirror_mode": {
    "name": "ipython",
    "version": 3
   },
   "file_extension": ".py",
   "mimetype": "text/x-python",
   "name": "python",
   "nbconvert_exporter": "python",
   "pygments_lexer": "ipython3",
   "version": "3.10.11"
  }
 },
 "nbformat": 4,
 "nbformat_minor": 5
}
